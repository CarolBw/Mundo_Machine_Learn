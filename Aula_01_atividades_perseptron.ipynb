{
  "nbformat": 4,
  "nbformat_minor": 0,
  "metadata": {
    "colab": {
      "provenance": [],
      "authorship_tag": "ABX9TyM0MwCEFMlVAnE0JucZZ0Hy",
      "include_colab_link": true
    },
    "kernelspec": {
      "name": "python3",
      "display_name": "Python 3"
    },
    "language_info": {
      "name": "python"
    }
  },
  "cells": [
    {
      "cell_type": "markdown",
      "metadata": {
        "id": "view-in-github",
        "colab_type": "text"
      },
      "source": [
        "<a href=\"https://colab.research.google.com/github/CarolBw/Mundo_Machine_Learn/blob/main/Aula_01_atividades_perseptron.ipynb\" target=\"_parent\"><img src=\"https://colab.research.google.com/assets/colab-badge.svg\" alt=\"Open In Colab\"/></a>"
      ]
    },
    {
      "cell_type": "markdown",
      "source": [
        "# Implementando um Perceptron"
      ],
      "metadata": {
        "id": "CweKK7JoN3Vn"
      }
    },
    {
      "cell_type": "code",
      "source": [
        "import numpy as np  # Importamos a biblioteca NumPy para realizar operações numéricas e vetorizadas.\n",
        "from sklearn.metrics import accuracy_score  # Importamos a função de cálculo de acurácia da biblioteca scikit-learn.\n",
        "\n",
        "# Criamos classe Perceptron com parâmetros configuráveis.\n",
        "class Perceptron:\n",
        "    def __init__(self, tx_aprendizado=0.1, epocas=500, early_stopping=False, tolerance=0.01, patience=10):\n",
        "        self.tx_aprendizado = tx_aprendizado  # Taxa de aprendizado controla o tamanho do passo na atualização dos pesos.\n",
        "        self.epocas = epocas  # Número de passagens completas pelo dataset.\n",
        "        self.pesos = None  # Inicialmente os pesos são None, serão inicializados no método fit.\n",
        "        self.bias = None  # Bias é um termo constante adicionado à decisão.\n",
        "        self.early_stopping = early_stopping  # Se True, permite parar o treinamento cedo se não houver melhora.\n",
        "        self.tolerance = tolerance  # Define quanto de melhora é necessária para considerar que ainda há progresso.\n",
        "        self.patience = patience  # Quantas épocas sem melhora são toleradas antes de parar.\n",
        "\n",
        "    # Função de ativação do tipo degrau, que decide a classe baseada no sinal da entrada.\n",
        "    def funcao_ativacao(self, x):\n",
        "        return np.where(x >= 0, 1, 0)\n",
        "\n",
        "    # Método de treinamento do Perceptron. Recebe os dados (x) e as etiquetas/labels (y).\n",
        "    def fit(self, x, y):\n",
        "        n_samples, n_features = x.shape  # Número de amostras(linhas) e características(colunas) dos dados.\n",
        "        self.pesos = np.random.rand(n_features)  # Inicializa pesos aleatoriamente.\n",
        "        self.bias = 0  # Inicializa o bias como 0.\n",
        "        no_improve_epoch = 0  # Contador para épocas sem melhoria.\n",
        "        last_loss = np.inf  # Guarda o último valor da função de perda.\n",
        "\n",
        "        for epoca in range(self.epocas):\n",
        "            saida_linear = np.dot(x, self.pesos) + self.bias  # Calcula saída linear.\n",
        "            previsao_y = self.funcao_ativacao(saida_linear)  # Aplica função de ativação.\n",
        "            erros = y - previsao_y  # Calcula erro entre previsão e valor real.\n",
        "            self.pesos += self.tx_aprendizado * np.dot(x.T, erros)  # Atualiza pesos.\n",
        "            self.bias += self.tx_aprendizado * np.sum(erros)  # Atualiza bias.\n",
        "\n",
        "            # Lógica de early stopping para evitar overfitting.\n",
        "            current_loss = np.mean(erros ** 2)\n",
        "            if self.early_stopping:\n",
        "                if last_loss - current_loss < self.tolerance:\n",
        "                    no_improve_epoch += 1\n",
        "                else:\n",
        "                    no_improve_epoch = 0\n",
        "                if no_improve_epoch > self.patience:\n",
        "                    print(f\"Stopping early at epoch {epoca}\")\n",
        "                    break\n",
        "                last_loss = current_loss\n",
        "\n",
        "    # Método para prever classes baseadas em novos dados de entrada (x).\n",
        "    def predict(self, x):\n",
        "        saida_linear = np.dot(x, self.pesos) + self.bias  # Calcula saída linear.\n",
        "        return self.funcao_ativacao(saida_linear)  # Retorna a classificação pela função de ativação.\n",
        "\n",
        "    # Método para calcular a acurácia do modelo comparando previsões com verdadeiros rótulos (y).\n",
        "    def score(self, x, y):\n",
        "        y_pred = self.predict(x)  # Obtém previsões para os dados fornecidos.\n",
        "        return accuracy_score(y, y_pred)  # Calcula e retorna a acurácia comparando previsões e rótulos verdadeiros.\n"
      ],
      "metadata": {
        "id": "A6EPPngeN9_y"
      },
      "execution_count": 1,
      "outputs": []
    },
    {
      "cell_type": "code",
      "source": [
        "from sklearn.datasets import load_breast_cancer\n",
        "from sklearn.model_selection import train_test_split\n",
        "from sklearn.preprocessing import StandardScaler\n",
        "\n",
        "# Importando um Dataset da biblioteca para testar o perceptron\n",
        "data = load_breast_cancer()\n",
        "\n",
        "# Separando caracteristicas e rotulos nas variaveis x e y\n",
        "x = data.data\n",
        "y = data.target\n",
        "\n",
        "# Dividir os dados em treinamento e teste\n",
        "x_train, x_test, y_train, y_test = train_test_split(x, y, test_size=0.2, random_state=42)\n",
        "\n",
        "# Normalizar os dados para melhor desempenho do Perceptron\n",
        "scaler = StandardScaler()\n",
        "x_train = scaler.fit_transform(x_train)\n",
        "x_test = scaler.transform(x_test)\n"
      ],
      "metadata": {
        "id": "w8yYDSaUO5mv"
      },
      "execution_count": 2,
      "outputs": []
    },
    {
      "cell_type": "code",
      "source": [
        "# Criar uma instância do Perceptron\n",
        "perceptron = Perceptron(tx_aprendizado=0.2, epocas=1100, early_stopping=True, tolerance=0.0001, patience=20)\n",
        "\n",
        "# Treinar o Perceptron\n",
        "perceptron.fit(x_train, y_train)\n",
        "\n",
        "# Avaliar o desempenho do modelo\n",
        "accuracy = perceptron.score(x_test, y_test)\n",
        "print(f\"Acurácia do Perceptron: {accuracy:.2f}\")\n",
        "\n"
      ],
      "metadata": {
        "colab": {
          "base_uri": "https://localhost:8080/"
        },
        "id": "UKQ8sex5QDmp",
        "outputId": "ed171f3b-72b0-4e9a-a19c-78d251674da9"
      },
      "execution_count": 3,
      "outputs": [
        {
          "output_type": "stream",
          "name": "stdout",
          "text": [
            "Stopping early at epoch 983\n",
            "Acurácia do Perceptron: 0.95\n"
          ]
        }
      ]
    }
  ]
}