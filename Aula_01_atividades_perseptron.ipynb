{
  "nbformat": 4,
  "nbformat_minor": 0,
  "metadata": {
    "colab": {
      "provenance": [],
      "authorship_tag": "ABX9TyPVUmxhLd9dcRleZJkXIiG0",
      "include_colab_link": true
    },
    "kernelspec": {
      "name": "python3",
      "display_name": "Python 3"
    },
    "language_info": {
      "name": "python"
    }
  },
  "cells": [
    {
      "cell_type": "markdown",
      "metadata": {
        "id": "view-in-github",
        "colab_type": "text"
      },
      "source": [
        "<a href=\"https://colab.research.google.com/github/CarolBw/Mundo_Machine_Learn/blob/main/Aula_01_atividades_perseptron.ipynb\" target=\"_parent\"><img src=\"https://colab.research.google.com/assets/colab-badge.svg\" alt=\"Open In Colab\"/></a>"
      ]
    },
    {
      "cell_type": "markdown",
      "source": [
        "##Implementando um Perceptron"
      ],
      "metadata": {
        "id": "c3015dGjvaIX"
      }
    },
    {
      "cell_type": "code",
      "execution_count": 1,
      "metadata": {
        "id": "EGmbfqTzvI60"
      },
      "outputs": [],
      "source": [
        "# Importamos as bibliotecas\n",
        "import numpy as np\n",
        "\n",
        "# Criamos uma classe perseptron para tornar o objeto reutilizavel\n",
        "# A taxa de aprendizado é o que controla o tamanho do passo na atualização dos pesos\n",
        "# Epocas é o umero de vezes que o perseptron passa por todo o conjunto de dados\n",
        "# Pesos é um array que guarda todos os pesos associados a cada entrada do modelo\n",
        "# Bias é um termo adicional que permite ajustar a saida do modelo independente das entradas\n",
        "class Perseptron:\n",
        "    def __init__(self, tx_aprendizado=0.1, epocas=500):\n",
        "        self.tx_aprendizado = tx_aprendizado\n",
        "        self.epocas = epocas\n",
        "        self.pesos = None\n",
        "        self.bias = None\n",
        "\n",
        "    # Função de ativação Degrau para classificação binária, retorna 1 se x maior ou igual a 0, do contrário retorna 0.(1=positivo, 0=negativo)\n",
        "    def funcao_ativacao(self, x):\n",
        "        return np.where(x >= 0, 1, 0)\n",
        "\n",
        "    # função de treinamento, recebe os dados(x), os rótulos(y),\n",
        "    # Determina o num de características (colunas), num de amostras (linhas)\n",
        "    # Inicializa os pesos com um array de zeros na mesma quantidade de colunas que contém características\n",
        "    # Inicializa o bias com 0\n",
        "    def treinamento(self, x, y):\n",
        "        amostras_linhas, caracteristicas_colunas = x.shape\n",
        "        self.pesos = np.zeros(caracteristicas_colunas)\n",
        "        self.bias = 0\n",
        "\n",
        "        # Para cada epoca na contagem de epocas\n",
        "        # Para cada índice/amostra no conjunto de dados x\n",
        "        # Calcula a saída linear, multiplicando cada amostra de entrada pelo seu respectivo peso e somando com bias\n",
        "        for epoca in range(self.epocas):\n",
        "            for indice, amostra in enumerate(x):\n",
        "                saida_linear = np.dot(amostra, self.pesos) + self.bias\n",
        "\n",
        "                # Passamos a saída linear por uma função de ativação e temos a previsão\n",
        "                previsao_y = self.funcao_ativacao(saida_linear)\n",
        "\n",
        "                # Calcula o erro como a diferença entre o rótulo real e a previsão\n",
        "                erro = y[indice] - previsao_y\n",
        "\n",
        "                # Atualiza os pesos: ajusta cada peso baseado no erro, taxa de aprendizado e valor da entrada\n",
        "                self.pesos += self.tx_aprendizado * erro * amostra\n",
        "\n",
        "                # Atualiza o bias: ajusta o bias baseado no erro e na taxa de aprendizado\n",
        "                self.bias += self.tx_aprendizado * erro\n",
        "\n",
        "     # Criamos o método 'prever', que ira calcular a saida linear para uma amostra,\n",
        "        # passar a função de ativação nesta amostra e retornar a nossa classificação\n",
        "    def prever(self, x):\n",
        "        saida_linear = np.dot(x, self.pesos) + self.bias\n",
        "        return self.funcao_ativacao(saida_linear)\n",
        "\n"
      ]
    },
    {
      "cell_type": "markdown",
      "source": [
        "Importando um Dataset comum e dividindo em treino e teste para testar o perseptron >>"
      ],
      "metadata": {
        "id": "SM5LLGIqo4XK"
      }
    },
    {
      "cell_type": "code",
      "source": [
        "from sklearn.datasets import load_breast_cancer\n",
        "from sklearn.model_selection import train_test_split\n",
        "\n",
        "# Intanciando o Dataset\n",
        "data = load_breast_cancer()\n",
        "# Definindo as caracteristicas(x), e o rótulo(y)\n",
        "x = data.data\n",
        "y = data.target\n",
        "\n",
        "# Aqui chamamos o método \"train_test_split()\" para dividir o conjunto de dados em treino e teste,\n",
        "# \"test_size\" indica o tamanho da divisão pra teste, no caso 20% dos dados e 'random_state' [explicar]\n",
        "x_train, x_test, y_train, y_test = train_test_split(x, y , test_size = 0.2, random_state = 42)"
      ],
      "metadata": {
        "id": "bHgwohXMo3o6"
      },
      "execution_count": 2,
      "outputs": []
    },
    {
      "cell_type": "markdown",
      "source": [
        "Treinando o perseptron >>\n"
      ],
      "metadata": {
        "id": "FEP7oZ2gaQ6I"
      }
    },
    {
      "cell_type": "code",
      "source": [
        "# Instanciando a classe criada anteriormente\n",
        "perseptron = Perseptron()\n",
        "\n",
        "# Treinando o perseptron com as caracteristicas de treino(x) e os rotulos de treino(y)\n",
        "perseptron.treinamento(x_train, y_train)"
      ],
      "metadata": {
        "id": "75WcT1gXaRUt"
      },
      "execution_count": 3,
      "outputs": []
    },
    {
      "cell_type": "code",
      "source": [
        "# Fazendo previsões com o nosso perseptron\n",
        "y_predict = perseptron.prever(x_test)\n"
      ],
      "metadata": {
        "id": "8_N56yPlf1IW"
      },
      "execution_count": 4,
      "outputs": []
    },
    {
      "cell_type": "markdown",
      "source": [
        "Medindo a eficácia do nosso perseptron >>"
      ],
      "metadata": {
        "id": "KsIrrmsL1H8X"
      }
    },
    {
      "cell_type": "code",
      "source": [
        "# Importamos a métrica 'accuracy_score'\n",
        "from sklearn.metrics import accuracy_score\n",
        "\n",
        "# Chamamos o método passando os rótulos reais e as previsões\n",
        "accuracy = accuracy_score(y_test, y_predict)\n",
        "\n",
        "# Retornamos a variável com resultado da acurácia\n",
        "print(\"Acurácia do Perceptron:\", accuracy)\n"
      ],
      "metadata": {
        "colab": {
          "base_uri": "https://localhost:8080/"
        },
        "id": "iTgi3Hv_x1Ot",
        "outputId": "67aae9c6-0a96-48ef-c7e5-a5ee573d53ca"
      },
      "execution_count": 5,
      "outputs": [
        {
          "output_type": "stream",
          "name": "stdout",
          "text": [
            "Acurácia do Perceptron: 0.9473684210526315\n"
          ]
        }
      ]
    }
  ]
}