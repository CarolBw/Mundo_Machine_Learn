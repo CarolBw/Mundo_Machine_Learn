{
  "nbformat": 4,
  "nbformat_minor": 0,
  "metadata": {
    "colab": {
      "provenance": [],
      "authorship_tag": "ABX9TyMJTtmAgQ3eSGJRyyIAx3jm",
      "include_colab_link": true
    },
    "kernelspec": {
      "name": "python3",
      "display_name": "Python 3"
    },
    "language_info": {
      "name": "python"
    }
  },
  "cells": [
    {
      "cell_type": "markdown",
      "metadata": {
        "id": "view-in-github",
        "colab_type": "text"
      },
      "source": [
        "<a href=\"https://colab.research.google.com/github/CarolBw/Mundo_Machine_Learn/blob/main/Perceptron_Keras.ipynb\" target=\"_parent\"><img src=\"https://colab.research.google.com/assets/colab-badge.svg\" alt=\"Open In Colab\"/></a>"
      ]
    },
    {
      "cell_type": "markdown",
      "source": [
        "## Um perceptron da biblioteca Keras"
      ],
      "metadata": {
        "id": "SFZyacwc8hD2"
      }
    },
    {
      "cell_type": "markdown",
      "source": [
        "Este exemplo mostra como construir e treinar um Perceptron simples usando keras. O Perceptron é um modelo básico de rede neural que processa entradas e gera uma saída binária com base em uma função de ativação. Este é um ponto de partida para construir redes neurais mais complexas e avançadas."
      ],
      "metadata": {
        "id": "CVZoJYVU8egf"
      }
    },
    {
      "cell_type": "code",
      "execution_count": 1,
      "metadata": {
        "colab": {
          "base_uri": "https://localhost:8080/",
          "height": 70
        },
        "id": "dK5dkaBj8dxG",
        "outputId": "d5393808-4e29-425e-e6ee-8899f1c1f713"
      },
      "outputs": [
        {
          "output_type": "execute_result",
          "data": {
            "text/plain": [
              "'Explicação:\\n\\nSequential e Dense são usados para construir a rede neural.\\nload_breast_cancer fornece o dataset que usaremos.\\ntrain_test_split divide o dataset em conjuntos de treinamento e teste.\\nStandardScaler normaliza os dados, garantindo que todas as características tenham média 0 e desvio padrão 1.'"
            ],
            "application/vnd.google.colaboratory.intrinsic+json": {
              "type": "string"
            }
          },
          "metadata": {},
          "execution_count": 1
        }
      ],
      "source": [
        "from keras.models import Sequential  # Importa o modelo sequencial do Keras\n",
        "from keras.layers import Dense  # Importa a camada densa do Keras\n",
        "from sklearn.datasets import load_breast_cancer  # Importa o dataset de câncer de mama do scikit-learn\n",
        "from sklearn.model_selection import train_test_split  # Importa a função de divisão de dados em treino e teste do scikit-learn\n",
        "from sklearn.preprocessing import StandardScaler  # Importa a classe para padronização dos dados do scikit-learn\n",
        "\n",
        "'''Explicação:\n",
        "\n",
        "Sequential e Dense são usados para construir a rede neural.\n",
        "load_breast_cancer fornece o dataset que usaremos.\n",
        "train_test_split divide o dataset em conjuntos de treinamento e teste.\n",
        "StandardScaler normaliza os dados, garantindo que todas as características tenham média 0 e desvio padrão 1.'''"
      ]
    },
    {
      "cell_type": "markdown",
      "source": [
        "Carregar e preparar o Dataset da bilioteca Sklearn >>\n"
      ],
      "metadata": {
        "id": "smfPZQ_B9Hzc"
      }
    },
    {
      "cell_type": "code",
      "source": [
        "# Carregar o dataset\n",
        "data = load_breast_cancer()\n",
        "\n",
        "# Separar caracteristicas e rótulo\n",
        "X = data.data\n",
        "y = data.target\n",
        "\n",
        "# Dividir o dataset em conjuntos de treinamento e teste\n",
        "X_train, X_test, y_train, y_test = train_test_split(X, y, test_size=0.2, random_state=42)\n",
        "\n",
        "# Normalizar os dados\n",
        "scaler = StandardScaler()\n",
        "X_train = scaler.fit_transform(X_train)\n",
        "X_test = scaler.transform(X_test)\n",
        "\n",
        "'''Explicação:\n",
        "\n",
        "load_breast_cancer(): Carrega o dataset de câncer de mama.\n",
        "data.data e data.target: Separam os dados das características e os rótulos.\n",
        "train_test_split: Divide o dataset em 80% para treinamento e 20% para teste.\n",
        "StandardScaler(): Normaliza os dados para que todas as características tenham média 0 e desvio padrão 1.'''"
      ],
      "metadata": {
        "colab": {
          "base_uri": "https://localhost:8080/",
          "height": 70
        },
        "id": "dhFWYu4d9DHw",
        "outputId": "8a239212-f298-40e2-f72d-c4293bd2b639"
      },
      "execution_count": 2,
      "outputs": [
        {
          "output_type": "execute_result",
          "data": {
            "text/plain": [
              "'Explicação:\\n\\nload_breast_cancer(): Carrega o dataset de câncer de mama.\\ndata.data e data.target: Separam os dados das características e os rótulos.\\ntrain_test_split: Divide o dataset em 80% para treinamento e 20% para teste.\\nStandardScaler(): Normaliza os dados para que todas as características tenham média 0 e desvio padrão 1.'"
            ],
            "application/vnd.google.colaboratory.intrinsic+json": {
              "type": "string"
            }
          },
          "metadata": {},
          "execution_count": 2
        }
      ]
    },
    {
      "cell_type": "markdown",
      "source": [
        "Construir um modelo de perceptron >>\n",
        "\n",
        "\n"
      ],
      "metadata": {
        "id": "DUXRD2ee996n"
      }
    },
    {
      "cell_type": "code",
      "source": [
        "# Construir o modelo de Perceptron\n",
        "model = Sequential([\n",
        "    Dense(1, input_dim=X_train.shape[1], activation='sigmoid')  # Adiciona uma camada densa com 1 neurônio e a função de ativação sigmoid\n",
        "])\n",
        "\n",
        "'''Explicação:\n",
        "\n",
        "Sequential: Inicializa um modelo sequencial.\n",
        "Dense(1, input_dim=X_train.shape[1], activation='sigmoid'):\n",
        "Dense(1): Adiciona uma camada densa com 1 neurônio.\n",
        "input_dim=X_train.shape[1]: Especifica o número de entradas (30 características).\n",
        "activation='sigmoid': Usa a função de ativação sigmoid para mapear a saída do neurônio para um valor entre 0 e 1, útil para classificação binária.'''\n",
        "\n",
        "# Compilar o modelo de Perceptron\n",
        "model.compile(optimizer='sgd', loss='binary_crossentropy', metrics=['accuracy'])\n",
        "\n",
        "'''Explicação:\n",
        "\n",
        "compile configura o modelo para o processo de treinamento.\n",
        "optimizer='sgd': Usa o otimizador Stochastic Gradient Descent.\n",
        "loss='binary_crossentropy': Usa a função de perda binary_crossentropy, adequada para classificação binária.\n",
        "metrics=['accuracy']: Monitora a acurácia do modelo durante o treinamento.'''\n"
      ],
      "metadata": {
        "colab": {
          "base_uri": "https://localhost:8080/",
          "height": 70
        },
        "id": "GQRj6b1g96Xm",
        "outputId": "d8dc4f23-12cb-4f96-fcc7-7a321667f292"
      },
      "execution_count": 3,
      "outputs": [
        {
          "output_type": "execute_result",
          "data": {
            "text/plain": [
              "\"Explicação:\\n\\ncompile configura o modelo para o processo de treinamento.\\noptimizer='sgd': Usa o otimizador Stochastic Gradient Descent.\\nloss='binary_crossentropy': Usa a função de perda binary_crossentropy, adequada para classificação binária.\\nmetrics=['accuracy']: Monitora a acurácia do modelo durante o treinamento.\""
            ],
            "application/vnd.google.colaboratory.intrinsic+json": {
              "type": "string"
            }
          },
          "metadata": {},
          "execution_count": 3
        }
      ]
    },
    {
      "cell_type": "markdown",
      "source": [
        "Treinar nosso modelo perceptron >>"
      ],
      "metadata": {
        "id": "r7kwnPGmAQDe"
      }
    },
    {
      "cell_type": "code",
      "source": [
        "# Treinar o modelo de Perceptron\n",
        "model.fit(X_train, y_train, epochs=100, batch_size=10, validation_data=(X_test, y_test))\n",
        "\n",
        "'''Explicação:\n",
        "\n",
        "fit treina o modelo nos dados de treinamento.\n",
        "epochs=100: Número de épocas (passagens completas pelo dataset).\n",
        "batch_size=10: Tamanho do batch (número de amostras antes de atualizar os pesos).\n",
        "validation_data=(X_test, y_test): Usa os dados de teste para validar o modelo durante o treinamento.'''"
      ],
      "metadata": {
        "colab": {
          "base_uri": "https://localhost:8080/",
          "height": 1000
        },
        "id": "h8oBmVHq-pPn",
        "outputId": "5a38e706-e24f-4f08-82b5-7299f0e8d9db"
      },
      "execution_count": 4,
      "outputs": [
        {
          "output_type": "stream",
          "name": "stdout",
          "text": [
            "Epoch 1/100\n",
            "46/46 [==============================] - 1s 11ms/step - loss: 0.3956 - accuracy: 0.8418 - val_loss: 0.3320 - val_accuracy: 0.8947\n",
            "Epoch 2/100\n",
            "46/46 [==============================] - 0s 6ms/step - loss: 0.2981 - accuracy: 0.8857 - val_loss: 0.2686 - val_accuracy: 0.9123\n",
            "Epoch 3/100\n",
            "46/46 [==============================] - 0s 6ms/step - loss: 0.2519 - accuracy: 0.9077 - val_loss: 0.2319 - val_accuracy: 0.9298\n",
            "Epoch 4/100\n",
            "46/46 [==============================] - 0s 5ms/step - loss: 0.2229 - accuracy: 0.9275 - val_loss: 0.2077 - val_accuracy: 0.9386\n",
            "Epoch 5/100\n",
            "46/46 [==============================] - 0s 6ms/step - loss: 0.2030 - accuracy: 0.9363 - val_loss: 0.1901 - val_accuracy: 0.9561\n",
            "Epoch 6/100\n",
            "46/46 [==============================] - 0s 6ms/step - loss: 0.1880 - accuracy: 0.9451 - val_loss: 0.1765 - val_accuracy: 0.9561\n",
            "Epoch 7/100\n",
            "46/46 [==============================] - 0s 6ms/step - loss: 0.1765 - accuracy: 0.9473 - val_loss: 0.1657 - val_accuracy: 0.9649\n",
            "Epoch 8/100\n",
            "46/46 [==============================] - 0s 6ms/step - loss: 0.1670 - accuracy: 0.9516 - val_loss: 0.1568 - val_accuracy: 0.9649\n",
            "Epoch 9/100\n",
            "46/46 [==============================] - 0s 5ms/step - loss: 0.1592 - accuracy: 0.9560 - val_loss: 0.1494 - val_accuracy: 0.9649\n",
            "Epoch 10/100\n",
            "46/46 [==============================] - 0s 6ms/step - loss: 0.1525 - accuracy: 0.9582 - val_loss: 0.1431 - val_accuracy: 0.9649\n",
            "Epoch 11/100\n",
            "46/46 [==============================] - 0s 5ms/step - loss: 0.1469 - accuracy: 0.9582 - val_loss: 0.1377 - val_accuracy: 0.9649\n",
            "Epoch 12/100\n",
            "46/46 [==============================] - 0s 7ms/step - loss: 0.1420 - accuracy: 0.9582 - val_loss: 0.1330 - val_accuracy: 0.9649\n",
            "Epoch 13/100\n",
            "46/46 [==============================] - 0s 6ms/step - loss: 0.1377 - accuracy: 0.9582 - val_loss: 0.1287 - val_accuracy: 0.9649\n",
            "Epoch 14/100\n",
            "46/46 [==============================] - 0s 4ms/step - loss: 0.1338 - accuracy: 0.9604 - val_loss: 0.1252 - val_accuracy: 0.9649\n",
            "Epoch 15/100\n",
            "46/46 [==============================] - 0s 5ms/step - loss: 0.1304 - accuracy: 0.9604 - val_loss: 0.1218 - val_accuracy: 0.9649\n",
            "Epoch 16/100\n",
            "46/46 [==============================] - 0s 4ms/step - loss: 0.1272 - accuracy: 0.9604 - val_loss: 0.1188 - val_accuracy: 0.9649\n",
            "Epoch 17/100\n",
            "46/46 [==============================] - 0s 5ms/step - loss: 0.1244 - accuracy: 0.9626 - val_loss: 0.1162 - val_accuracy: 0.9649\n",
            "Epoch 18/100\n",
            "46/46 [==============================] - 0s 7ms/step - loss: 0.1218 - accuracy: 0.9648 - val_loss: 0.1138 - val_accuracy: 0.9649\n",
            "Epoch 19/100\n",
            "46/46 [==============================] - 0s 5ms/step - loss: 0.1194 - accuracy: 0.9648 - val_loss: 0.1115 - val_accuracy: 0.9649\n",
            "Epoch 20/100\n",
            "46/46 [==============================] - 0s 5ms/step - loss: 0.1172 - accuracy: 0.9648 - val_loss: 0.1094 - val_accuracy: 0.9649\n",
            "Epoch 21/100\n",
            "46/46 [==============================] - 0s 4ms/step - loss: 0.1152 - accuracy: 0.9692 - val_loss: 0.1075 - val_accuracy: 0.9649\n",
            "Epoch 22/100\n",
            "46/46 [==============================] - 0s 6ms/step - loss: 0.1133 - accuracy: 0.9692 - val_loss: 0.1057 - val_accuracy: 0.9649\n",
            "Epoch 23/100\n",
            "46/46 [==============================] - 0s 8ms/step - loss: 0.1115 - accuracy: 0.9692 - val_loss: 0.1040 - val_accuracy: 0.9649\n",
            "Epoch 24/100\n",
            "46/46 [==============================] - 0s 6ms/step - loss: 0.1099 - accuracy: 0.9692 - val_loss: 0.1025 - val_accuracy: 0.9649\n",
            "Epoch 25/100\n",
            "46/46 [==============================] - 0s 6ms/step - loss: 0.1084 - accuracy: 0.9714 - val_loss: 0.1011 - val_accuracy: 0.9649\n",
            "Epoch 26/100\n",
            "46/46 [==============================] - 0s 5ms/step - loss: 0.1069 - accuracy: 0.9714 - val_loss: 0.0998 - val_accuracy: 0.9649\n",
            "Epoch 27/100\n",
            "46/46 [==============================] - 0s 5ms/step - loss: 0.1056 - accuracy: 0.9714 - val_loss: 0.0986 - val_accuracy: 0.9649\n",
            "Epoch 28/100\n",
            "46/46 [==============================] - 0s 4ms/step - loss: 0.1043 - accuracy: 0.9714 - val_loss: 0.0976 - val_accuracy: 0.9649\n",
            "Epoch 29/100\n",
            "46/46 [==============================] - 0s 8ms/step - loss: 0.1031 - accuracy: 0.9714 - val_loss: 0.0964 - val_accuracy: 0.9649\n",
            "Epoch 30/100\n",
            "46/46 [==============================] - 0s 5ms/step - loss: 0.1020 - accuracy: 0.9714 - val_loss: 0.0954 - val_accuracy: 0.9649\n",
            "Epoch 31/100\n",
            "46/46 [==============================] - 0s 8ms/step - loss: 0.1009 - accuracy: 0.9714 - val_loss: 0.0944 - val_accuracy: 0.9649\n",
            "Epoch 32/100\n",
            "46/46 [==============================] - 1s 11ms/step - loss: 0.0998 - accuracy: 0.9714 - val_loss: 0.0935 - val_accuracy: 0.9649\n",
            "Epoch 33/100\n",
            "46/46 [==============================] - 0s 9ms/step - loss: 0.0989 - accuracy: 0.9714 - val_loss: 0.0926 - val_accuracy: 0.9649\n",
            "Epoch 34/100\n",
            "46/46 [==============================] - 0s 10ms/step - loss: 0.0980 - accuracy: 0.9714 - val_loss: 0.0918 - val_accuracy: 0.9649\n",
            "Epoch 35/100\n",
            "46/46 [==============================] - 0s 8ms/step - loss: 0.0971 - accuracy: 0.9736 - val_loss: 0.0910 - val_accuracy: 0.9649\n",
            "Epoch 36/100\n",
            "46/46 [==============================] - 1s 13ms/step - loss: 0.0962 - accuracy: 0.9736 - val_loss: 0.0902 - val_accuracy: 0.9649\n",
            "Epoch 37/100\n",
            "46/46 [==============================] - 0s 8ms/step - loss: 0.0954 - accuracy: 0.9736 - val_loss: 0.0895 - val_accuracy: 0.9649\n",
            "Epoch 38/100\n",
            "46/46 [==============================] - 0s 6ms/step - loss: 0.0946 - accuracy: 0.9736 - val_loss: 0.0887 - val_accuracy: 0.9649\n",
            "Epoch 39/100\n",
            "46/46 [==============================] - 0s 9ms/step - loss: 0.0939 - accuracy: 0.9736 - val_loss: 0.0880 - val_accuracy: 0.9649\n",
            "Epoch 40/100\n",
            "46/46 [==============================] - 0s 10ms/step - loss: 0.0932 - accuracy: 0.9736 - val_loss: 0.0874 - val_accuracy: 0.9649\n",
            "Epoch 41/100\n",
            "46/46 [==============================] - 1s 13ms/step - loss: 0.0925 - accuracy: 0.9736 - val_loss: 0.0869 - val_accuracy: 0.9649\n",
            "Epoch 42/100\n",
            "46/46 [==============================] - 0s 9ms/step - loss: 0.0918 - accuracy: 0.9758 - val_loss: 0.0863 - val_accuracy: 0.9649\n",
            "Epoch 43/100\n",
            "46/46 [==============================] - 0s 7ms/step - loss: 0.0912 - accuracy: 0.9736 - val_loss: 0.0858 - val_accuracy: 0.9649\n",
            "Epoch 44/100\n",
            "46/46 [==============================] - 0s 6ms/step - loss: 0.0906 - accuracy: 0.9736 - val_loss: 0.0852 - val_accuracy: 0.9649\n",
            "Epoch 45/100\n",
            "46/46 [==============================] - 0s 5ms/step - loss: 0.0900 - accuracy: 0.9758 - val_loss: 0.0847 - val_accuracy: 0.9649\n",
            "Epoch 46/100\n",
            "46/46 [==============================] - 0s 8ms/step - loss: 0.0894 - accuracy: 0.9780 - val_loss: 0.0842 - val_accuracy: 0.9649\n",
            "Epoch 47/100\n",
            "46/46 [==============================] - 0s 5ms/step - loss: 0.0888 - accuracy: 0.9780 - val_loss: 0.0838 - val_accuracy: 0.9649\n",
            "Epoch 48/100\n",
            "46/46 [==============================] - 0s 5ms/step - loss: 0.0884 - accuracy: 0.9758 - val_loss: 0.0833 - val_accuracy: 0.9649\n",
            "Epoch 49/100\n",
            "46/46 [==============================] - 0s 4ms/step - loss: 0.0878 - accuracy: 0.9780 - val_loss: 0.0829 - val_accuracy: 0.9649\n",
            "Epoch 50/100\n",
            "46/46 [==============================] - 0s 7ms/step - loss: 0.0873 - accuracy: 0.9802 - val_loss: 0.0824 - val_accuracy: 0.9649\n",
            "Epoch 51/100\n",
            "46/46 [==============================] - 0s 5ms/step - loss: 0.0868 - accuracy: 0.9802 - val_loss: 0.0820 - val_accuracy: 0.9649\n",
            "Epoch 52/100\n",
            "46/46 [==============================] - 0s 8ms/step - loss: 0.0863 - accuracy: 0.9802 - val_loss: 0.0816 - val_accuracy: 0.9649\n",
            "Epoch 53/100\n",
            "46/46 [==============================] - 0s 5ms/step - loss: 0.0859 - accuracy: 0.9802 - val_loss: 0.0812 - val_accuracy: 0.9649\n",
            "Epoch 54/100\n",
            "46/46 [==============================] - 0s 4ms/step - loss: 0.0854 - accuracy: 0.9802 - val_loss: 0.0808 - val_accuracy: 0.9649\n",
            "Epoch 55/100\n",
            "46/46 [==============================] - 0s 11ms/step - loss: 0.0850 - accuracy: 0.9802 - val_loss: 0.0804 - val_accuracy: 0.9649\n",
            "Epoch 56/100\n",
            "46/46 [==============================] - 0s 7ms/step - loss: 0.0846 - accuracy: 0.9802 - val_loss: 0.0801 - val_accuracy: 0.9649\n",
            "Epoch 57/100\n",
            "46/46 [==============================] - 0s 7ms/step - loss: 0.0842 - accuracy: 0.9802 - val_loss: 0.0798 - val_accuracy: 0.9649\n",
            "Epoch 58/100\n",
            "46/46 [==============================] - 0s 5ms/step - loss: 0.0838 - accuracy: 0.9802 - val_loss: 0.0794 - val_accuracy: 0.9649\n",
            "Epoch 59/100\n",
            "46/46 [==============================] - 0s 8ms/step - loss: 0.0834 - accuracy: 0.9802 - val_loss: 0.0791 - val_accuracy: 0.9649\n",
            "Epoch 60/100\n",
            "46/46 [==============================] - 0s 5ms/step - loss: 0.0830 - accuracy: 0.9802 - val_loss: 0.0788 - val_accuracy: 0.9649\n",
            "Epoch 61/100\n",
            "46/46 [==============================] - 0s 6ms/step - loss: 0.0826 - accuracy: 0.9802 - val_loss: 0.0785 - val_accuracy: 0.9649\n",
            "Epoch 62/100\n",
            "46/46 [==============================] - 0s 6ms/step - loss: 0.0823 - accuracy: 0.9802 - val_loss: 0.0782 - val_accuracy: 0.9649\n",
            "Epoch 63/100\n",
            "46/46 [==============================] - 0s 5ms/step - loss: 0.0820 - accuracy: 0.9802 - val_loss: 0.0779 - val_accuracy: 0.9649\n",
            "Epoch 64/100\n",
            "46/46 [==============================] - 0s 5ms/step - loss: 0.0816 - accuracy: 0.9802 - val_loss: 0.0776 - val_accuracy: 0.9649\n",
            "Epoch 65/100\n",
            "46/46 [==============================] - 0s 5ms/step - loss: 0.0813 - accuracy: 0.9802 - val_loss: 0.0773 - val_accuracy: 0.9649\n",
            "Epoch 66/100\n",
            "46/46 [==============================] - 0s 3ms/step - loss: 0.0809 - accuracy: 0.9802 - val_loss: 0.0770 - val_accuracy: 0.9649\n",
            "Epoch 67/100\n",
            "46/46 [==============================] - 0s 3ms/step - loss: 0.0807 - accuracy: 0.9824 - val_loss: 0.0768 - val_accuracy: 0.9649\n",
            "Epoch 68/100\n",
            "46/46 [==============================] - 0s 2ms/step - loss: 0.0803 - accuracy: 0.9802 - val_loss: 0.0765 - val_accuracy: 0.9649\n",
            "Epoch 69/100\n",
            "46/46 [==============================] - 0s 2ms/step - loss: 0.0800 - accuracy: 0.9802 - val_loss: 0.0763 - val_accuracy: 0.9649\n",
            "Epoch 70/100\n",
            "46/46 [==============================] - 0s 3ms/step - loss: 0.0797 - accuracy: 0.9824 - val_loss: 0.0760 - val_accuracy: 0.9737\n",
            "Epoch 71/100\n",
            "46/46 [==============================] - 0s 3ms/step - loss: 0.0795 - accuracy: 0.9824 - val_loss: 0.0758 - val_accuracy: 0.9737\n",
            "Epoch 72/100\n",
            "46/46 [==============================] - 0s 2ms/step - loss: 0.0792 - accuracy: 0.9824 - val_loss: 0.0757 - val_accuracy: 0.9737\n",
            "Epoch 73/100\n",
            "46/46 [==============================] - 0s 2ms/step - loss: 0.0789 - accuracy: 0.9824 - val_loss: 0.0754 - val_accuracy: 0.9737\n",
            "Epoch 74/100\n",
            "46/46 [==============================] - 0s 3ms/step - loss: 0.0786 - accuracy: 0.9824 - val_loss: 0.0752 - val_accuracy: 0.9737\n",
            "Epoch 75/100\n",
            "46/46 [==============================] - 0s 3ms/step - loss: 0.0784 - accuracy: 0.9824 - val_loss: 0.0750 - val_accuracy: 0.9737\n",
            "Epoch 76/100\n",
            "46/46 [==============================] - 0s 3ms/step - loss: 0.0781 - accuracy: 0.9824 - val_loss: 0.0748 - val_accuracy: 0.9737\n",
            "Epoch 77/100\n",
            "46/46 [==============================] - 0s 3ms/step - loss: 0.0778 - accuracy: 0.9824 - val_loss: 0.0746 - val_accuracy: 0.9737\n",
            "Epoch 78/100\n",
            "46/46 [==============================] - 0s 3ms/step - loss: 0.0776 - accuracy: 0.9824 - val_loss: 0.0744 - val_accuracy: 0.9737\n",
            "Epoch 79/100\n",
            "46/46 [==============================] - 0s 2ms/step - loss: 0.0773 - accuracy: 0.9824 - val_loss: 0.0742 - val_accuracy: 0.9737\n",
            "Epoch 80/100\n",
            "46/46 [==============================] - 0s 2ms/step - loss: 0.0771 - accuracy: 0.9824 - val_loss: 0.0739 - val_accuracy: 0.9737\n",
            "Epoch 81/100\n",
            "46/46 [==============================] - 0s 2ms/step - loss: 0.0769 - accuracy: 0.9824 - val_loss: 0.0737 - val_accuracy: 0.9737\n",
            "Epoch 82/100\n",
            "46/46 [==============================] - 0s 2ms/step - loss: 0.0766 - accuracy: 0.9824 - val_loss: 0.0736 - val_accuracy: 0.9825\n",
            "Epoch 83/100\n",
            "46/46 [==============================] - 0s 2ms/step - loss: 0.0764 - accuracy: 0.9824 - val_loss: 0.0735 - val_accuracy: 0.9825\n",
            "Epoch 84/100\n",
            "46/46 [==============================] - 0s 3ms/step - loss: 0.0762 - accuracy: 0.9824 - val_loss: 0.0733 - val_accuracy: 0.9825\n",
            "Epoch 85/100\n",
            "46/46 [==============================] - 0s 2ms/step - loss: 0.0760 - accuracy: 0.9824 - val_loss: 0.0731 - val_accuracy: 0.9825\n",
            "Epoch 86/100\n",
            "46/46 [==============================] - 0s 2ms/step - loss: 0.0758 - accuracy: 0.9824 - val_loss: 0.0729 - val_accuracy: 0.9825\n",
            "Epoch 87/100\n",
            "46/46 [==============================] - 0s 2ms/step - loss: 0.0755 - accuracy: 0.9824 - val_loss: 0.0728 - val_accuracy: 0.9825\n",
            "Epoch 88/100\n",
            "46/46 [==============================] - 0s 2ms/step - loss: 0.0753 - accuracy: 0.9824 - val_loss: 0.0726 - val_accuracy: 0.9825\n",
            "Epoch 89/100\n",
            "46/46 [==============================] - 0s 2ms/step - loss: 0.0751 - accuracy: 0.9824 - val_loss: 0.0724 - val_accuracy: 0.9825\n",
            "Epoch 90/100\n",
            "46/46 [==============================] - 0s 2ms/step - loss: 0.0749 - accuracy: 0.9824 - val_loss: 0.0723 - val_accuracy: 0.9825\n",
            "Epoch 91/100\n",
            "46/46 [==============================] - 0s 2ms/step - loss: 0.0747 - accuracy: 0.9824 - val_loss: 0.0721 - val_accuracy: 0.9825\n",
            "Epoch 92/100\n",
            "46/46 [==============================] - 0s 4ms/step - loss: 0.0745 - accuracy: 0.9824 - val_loss: 0.0719 - val_accuracy: 0.9825\n",
            "Epoch 93/100\n",
            "46/46 [==============================] - 0s 4ms/step - loss: 0.0744 - accuracy: 0.9824 - val_loss: 0.0718 - val_accuracy: 0.9825\n",
            "Epoch 94/100\n",
            "46/46 [==============================] - 0s 4ms/step - loss: 0.0742 - accuracy: 0.9824 - val_loss: 0.0716 - val_accuracy: 0.9825\n",
            "Epoch 95/100\n",
            "46/46 [==============================] - 0s 4ms/step - loss: 0.0740 - accuracy: 0.9824 - val_loss: 0.0715 - val_accuracy: 0.9825\n",
            "Epoch 96/100\n",
            "46/46 [==============================] - 0s 4ms/step - loss: 0.0738 - accuracy: 0.9824 - val_loss: 0.0713 - val_accuracy: 0.9825\n",
            "Epoch 97/100\n",
            "46/46 [==============================] - 0s 4ms/step - loss: 0.0736 - accuracy: 0.9824 - val_loss: 0.0712 - val_accuracy: 0.9825\n",
            "Epoch 98/100\n",
            "46/46 [==============================] - 0s 4ms/step - loss: 0.0734 - accuracy: 0.9824 - val_loss: 0.0710 - val_accuracy: 0.9825\n",
            "Epoch 99/100\n",
            "46/46 [==============================] - 0s 3ms/step - loss: 0.0733 - accuracy: 0.9824 - val_loss: 0.0709 - val_accuracy: 0.9825\n",
            "Epoch 100/100\n",
            "46/46 [==============================] - 0s 4ms/step - loss: 0.0731 - accuracy: 0.9824 - val_loss: 0.0707 - val_accuracy: 0.9825\n"
          ]
        },
        {
          "output_type": "execute_result",
          "data": {
            "text/plain": [
              "'Explicação:\\n\\nfit treina o modelo nos dados de treinamento.\\nepochs=100: Número de épocas (passagens completas pelo dataset).\\nbatch_size=10: Tamanho do batch (número de amostras antes de atualizar os pesos).\\nvalidation_data=(X_test, y_test): Usa os dados de teste para validar o modelo durante o treinamento.'"
            ],
            "application/vnd.google.colaboratory.intrinsic+json": {
              "type": "string"
            }
          },
          "metadata": {},
          "execution_count": 4
        }
      ]
    },
    {
      "cell_type": "markdown",
      "source": [
        "Avaliar nosso modelo perceptron >>"
      ],
      "metadata": {
        "id": "E5xX5_BhAULp"
      }
    },
    {
      "cell_type": "code",
      "source": [
        "# Avaliar o modelo de Perceptron\n",
        "loss, accuracy = model.evaluate(X_test, y_test)\n",
        "print(f'Loss: {loss}, Accuracy: {accuracy}')\n",
        "\n",
        "'''Explicação:\n",
        "\n",
        "evaluate: Avalia o desempenho do modelo nos dados de teste.\n",
        "print(f'Loss: {loss}, Accuracy: {accuracy}'): Imprime a perda e a acurácia do modelo nos dados de teste.'''"
      ],
      "metadata": {
        "colab": {
          "base_uri": "https://localhost:8080/",
          "height": 88
        },
        "id": "wf2ZBaKP_XdY",
        "outputId": "e7cacec6-8813-4445-ec00-86fb74803884"
      },
      "execution_count": 5,
      "outputs": [
        {
          "output_type": "stream",
          "name": "stdout",
          "text": [
            "4/4 [==============================] - 0s 3ms/step - loss: 0.0707 - accuracy: 0.9825\n",
            "Loss: 0.07072870433330536, Accuracy: 0.9824561476707458\n"
          ]
        },
        {
          "output_type": "execute_result",
          "data": {
            "text/plain": [
              "\"Explicação:\\n\\nevaluate: Avalia o desempenho do modelo nos dados de teste.\\nprint(f'Loss: {loss}, Accuracy: {accuracy}'): Imprime a perda e a acurácia do modelo nos dados de teste.\""
            ],
            "application/vnd.google.colaboratory.intrinsic+json": {
              "type": "string"
            }
          },
          "metadata": {},
          "execution_count": 5
        }
      ]
    }
  ]
}